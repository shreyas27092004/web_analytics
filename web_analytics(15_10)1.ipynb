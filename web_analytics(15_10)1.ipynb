{
  "nbformat": 4,
  "nbformat_minor": 0,
  "metadata": {
    "colab": {
      "provenance": [],
      "authorship_tag": "ABX9TyMD/R1e/2OIHfW8Jy9AKfwb",
      "include_colab_link": true
    },
    "kernelspec": {
      "name": "python3",
      "display_name": "Python 3"
    },
    "language_info": {
      "name": "python"
    }
  },
  "cells": [
    {
      "cell_type": "markdown",
      "metadata": {
        "id": "view-in-github",
        "colab_type": "text"
      },
      "source": [
        "<a href=\"https://colab.research.google.com/github/shreyas27092004/web_analytics/blob/main/web_analytics(15_10)1.ipynb\" target=\"_parent\"><img src=\"https://colab.research.google.com/assets/colab-badge.svg\" alt=\"Open In Colab\"/></a>"
      ]
    },
    {
      "cell_type": "code",
      "source": [
        "import requests"
      ],
      "metadata": {
        "id": "qj-rFABa0pTj"
      },
      "execution_count": null,
      "outputs": []
    },
    {
      "cell_type": "code",
      "source": [
        "from bs4 import BeautifulSoup"
      ],
      "metadata": {
        "id": "xF6FsF030vlm"
      },
      "execution_count": null,
      "outputs": []
    },
    {
      "cell_type": "code",
      "source": [
        "url=\"http://quotes.toscrape.com/\""
      ],
      "metadata": {
        "id": "ZOkPzGxH03ng"
      },
      "execution_count": null,
      "outputs": []
    },
    {
      "cell_type": "code",
      "source": [
        "response = requests.get(url)"
      ],
      "metadata": {
        "id": "6x5L0_7u08_o"
      },
      "execution_count": null,
      "outputs": []
    },
    {
      "cell_type": "code",
      "source": [
        "soup = BeautifulSoup(response.text, \"html.parser\")"
      ],
      "metadata": {
        "id": "H-Yr1y9G0_2a"
      },
      "execution_count": null,
      "outputs": []
    },
    {
      "cell_type": "code",
      "source": [
        "quotes = soup.find_all(\"span\", class_=\"text\")"
      ],
      "metadata": {
        "id": "5tM6uEIB1RMf"
      },
      "execution_count": null,
      "outputs": []
    },
    {
      "cell_type": "code",
      "source": [
        "authors = soup.find_all(\"small\", class_=\"author\")"
      ],
      "metadata": {
        "id": "b1LneNQi1TCb"
      },
      "execution_count": null,
      "outputs": []
    },
    {
      "cell_type": "code",
      "source": [
        "print(\"Quotes extracted:\\n\")\n",
        "for i in range(len(quotes)):\n",
        " print(f\"{i+1}. {quotes[i].get_text()} — {authors[i].get_text()}\")"
      ],
      "metadata": {
        "colab": {
          "base_uri": "https://localhost:8080/"
        },
        "id": "NQ5KULwl1Uh-",
        "outputId": "78dbcec3-b7ed-42db-82d6-67d31ee38aef"
      },
      "execution_count": null,
      "outputs": [
        {
          "output_type": "stream",
          "name": "stdout",
          "text": [
            "Quotes extracted:\n",
            "\n",
            "1. “The world as we have created it is a process of our thinking. It cannot be changed without changing our thinking.” — Albert Einstein\n",
            "2. “It is our choices, Harry, that show what we truly are, far more than our abilities.” — J.K. Rowling\n",
            "3. “There are only two ways to live your life. One is as though nothing is a miracle. The other is as though everything is a miracle.” — Albert Einstein\n",
            "4. “The person, be it gentleman or lady, who has not pleasure in a good novel, must be intolerably stupid.” — Jane Austen\n",
            "5. “Imperfection is beauty, madness is genius and it's better to be absolutely ridiculous than absolutely boring.” — Marilyn Monroe\n",
            "6. “Try not to become a man of success. Rather become a man of value.” — Albert Einstein\n",
            "7. “It is better to be hated for what you are than to be loved for what you are not.” — André Gide\n",
            "8. “I have not failed. I've just found 10,000 ways that won't work.” — Thomas A. Edison\n",
            "9. “A woman is like a tea bag; you never know how strong it is until it's in hot water.” — Eleanor Roosevelt\n",
            "10. “A day without sunshine is like, you know, night.” — Steve Martin\n"
          ]
        }
      ]
    },
    {
      "cell_type": "code",
      "source": [
        "tags = soup.find_all(\"div\", class_=\"tags\")"
      ],
      "metadata": {
        "id": "nP0yuocQ1oUT"
      },
      "execution_count": null,
      "outputs": []
    },
    {
      "cell_type": "code",
      "source": [
        "print(\"\\nTags associated with quotes:\\n\")\n",
        "for i, tag_div in enumerate(tags):\n",
        " tag_texts = [tag.get_text() for tag in tag_div.find_all(\"a\", class_=\"tag\")]\n",
        " print(f\"Quote {i+1} Tags: {', '.join(tag_texts)}\")\n"
      ],
      "metadata": {
        "colab": {
          "base_uri": "https://localhost:8080/"
        },
        "id": "VVh9uawn1qEz",
        "outputId": "4856ab57-9816-4d6b-8cfa-7b0ad969ddb2"
      },
      "execution_count": null,
      "outputs": [
        {
          "output_type": "stream",
          "name": "stdout",
          "text": [
            "\n",
            "Tags associated with quotes:\n",
            "\n",
            "Quote 1 Tags: change, deep-thoughts, thinking, world\n",
            "Quote 2 Tags: abilities, choices\n",
            "Quote 3 Tags: inspirational, life, live, miracle, miracles\n",
            "Quote 4 Tags: aliteracy, books, classic, humor\n",
            "Quote 5 Tags: be-yourself, inspirational\n",
            "Quote 6 Tags: adulthood, success, value\n",
            "Quote 7 Tags: life, love\n",
            "Quote 8 Tags: edison, failure, inspirational, paraphrased\n",
            "Quote 9 Tags: misattributed-eleanor-roosevelt\n",
            "Quote 10 Tags: humor, obvious, simile\n"
          ]
        }
      ]
    },
    {
      "cell_type": "code",
      "source": [],
      "metadata": {
        "id": "ZUwjT5KT1v3G"
      },
      "execution_count": null,
      "outputs": []
    }
  ]
}